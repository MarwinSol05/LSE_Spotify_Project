{
 "cells": [
  {
   "cell_type": "markdown",
   "id": "fdb7c26d",
   "metadata": {},
   "source": [
    "># 1. Data Acquisition: Track Data"
   ]
  },
  {
   "cell_type": "markdown",
   "id": "6c412f26",
   "metadata": {},
   "source": [
    "Our group leveraged the Spotify API to gather music tracks across different years and countries. Data Acquisition was performed in two separate notebooks given API rate limits. This notebook is meant to be run first, to gather all tracks that will be assessed in our analysis. The first step of leveraging the Spotify API is the client credentials flow, which requires a Spotify account (to log into the Spotify Developer site) and requires the user to create an application which leads to the provision of both types of keys. Data Collection is described in detail in the report file (2.B. Data Collection).\n",
    "\n",
    "PLEASE NOTE: If re-running this file, data collection via the API can take a significant amount of time. If pausing and re-running the same blocks of code multiple times, care must be taken to allow for a brief pause to avoid exceeding rate limits. Additionally, please note that the command to create a CSV file from the API calls below has been commented out to prevent writing over the files created by our group. Given that API output can differ by day, we wanted to ensure that our analysis produced consistent results during the marking phase of this project. "
   ]
  },
  {
   "cell_type": "code",
   "execution_count": 3,
   "id": "d7493f9d",
   "metadata": {},
   "outputs": [],
   "source": [
    "# library load & key load\n",
    "import spotipy\n",
    "from spotipy.oauth2 import SpotifyClientCredentials\n",
    "import json\n",
    "import pandas as pd\n",
    "import time\n",
    "import timeit\n",
    "\n",
    "with open('keys_personal.json') as f:\n",
    "    keys = json.load(f)\n",
    "cid = keys['spotify']['client_id']\n",
    "secret = keys['spotify']['client_secret']"
   ]
  },
  {
   "cell_type": "code",
   "execution_count": 4,
   "id": "2f75fac5",
   "metadata": {},
   "outputs": [],
   "source": [
    "# client credentials flow\n",
    "spotify = spotipy.Spotify(client_credentials_manager = \n",
    "                          SpotifyClientCredentials(client_id=cid, client_secret=secret))"
   ]
  },
  {
   "cell_type": "code",
   "execution_count": 5,
   "id": "3ba28825",
   "metadata": {},
   "outputs": [
    {
     "data": {
      "text/plain": [
       "<spotipy.client.Spotify at 0x7fb5621752e0>"
      ]
     },
     "execution_count": 5,
     "metadata": {},
     "output_type": "execute_result"
    }
   ],
   "source": [
    "spotify"
   ]
  },
  {
   "cell_type": "markdown",
   "id": "8c6fb497",
   "metadata": {},
   "source": [
    "____________________________"
   ]
  },
  {
   "cell_type": "markdown",
   "id": "e5b7f800",
   "metadata": {},
   "source": [
    "### Gathering tracks across years and markets:\n",
    "\n",
    "Note, [this](https://towardsdatascience.com/spotify-data-project-part-1-from-data-retrieval-to-first-insights-f5f819f8e1c3) article was used as a reference point for our data collection process shown below though code and processes were altered significantly for our use-case. "
   ]
  },
  {
   "cell_type": "code",
   "execution_count": 6,
   "id": "47f4ce05",
   "metadata": {},
   "outputs": [],
   "source": [
    "years = ['2022', '2021', '2020', '2019', '2018', '2017', '2016', '2015']\n",
    "markets = ['US', 'GB', 'IN', 'NL']"
   ]
  },
  {
   "cell_type": "code",
   "execution_count": 7,
   "id": "ffb22d52",
   "metadata": {},
   "outputs": [],
   "source": [
    "year_list = []\n",
    "market_list = []\n",
    "artist_name = []\n",
    "track_name = []\n",
    "popularity = []\n",
    "track_id = []\n",
    "artist_id = []"
   ]
  },
  {
   "cell_type": "code",
   "execution_count": 8,
   "id": "0ffbb737",
   "metadata": {
    "scrolled": true
   },
   "outputs": [
    {
     "name": "stdout",
     "output_type": "stream",
     "text": [
      "Checking\n",
      "Checking\n",
      "Checking\n",
      "Checking\n",
      "Checking\n",
      "Checking\n",
      "Ran:  2022 US\n",
      "Checking\n",
      "Checking\n",
      "Checking\n",
      "Checking\n",
      "Checking\n",
      "Checking\n",
      "Ran:  2022 GB\n",
      "Checking\n",
      "Checking\n",
      "Checking\n",
      "Checking\n",
      "Checking\n",
      "Checking\n",
      "Ran:  2022 IN\n",
      "Checking\n",
      "Checking\n",
      "Checking\n",
      "Checking\n",
      "Checking\n",
      "Checking\n",
      "Ran:  2022 NL\n",
      "Checking\n",
      "Checking\n",
      "Checking\n",
      "Checking\n",
      "Checking\n",
      "Checking\n",
      "Ran:  2021 US\n",
      "Checking\n",
      "Checking\n",
      "Checking\n",
      "Checking\n",
      "Checking\n",
      "Checking\n",
      "Ran:  2021 GB\n",
      "Checking\n",
      "Checking\n",
      "Checking\n",
      "Checking\n",
      "Checking\n",
      "Checking\n",
      "Ran:  2021 IN\n",
      "Checking\n",
      "Checking\n",
      "Checking\n",
      "Checking\n",
      "Checking\n",
      "Checking\n",
      "Ran:  2021 NL\n",
      "Checking\n",
      "Checking\n",
      "Checking\n",
      "Checking\n",
      "Checking\n",
      "Checking\n",
      "Ran:  2020 US\n",
      "Checking\n",
      "Checking\n",
      "Checking\n",
      "Checking\n",
      "Checking\n",
      "Checking\n",
      "Ran:  2020 GB\n",
      "Checking\n",
      "Checking\n",
      "Checking\n",
      "Checking\n",
      "Checking\n",
      "Checking\n",
      "Ran:  2020 IN\n",
      "Checking\n",
      "Checking\n",
      "Checking\n",
      "Checking\n",
      "Checking\n",
      "Checking\n",
      "Ran:  2020 NL\n",
      "Checking\n",
      "Checking\n",
      "Checking\n",
      "Checking\n",
      "Checking\n",
      "Checking\n",
      "Ran:  2019 US\n",
      "Checking\n",
      "Checking\n",
      "Checking\n",
      "Checking\n",
      "Checking\n",
      "Checking\n",
      "Ran:  2019 GB\n",
      "Checking\n",
      "Checking\n",
      "Checking\n",
      "Checking\n",
      "Checking\n",
      "Checking\n",
      "Ran:  2019 IN\n",
      "Checking\n",
      "Checking\n",
      "Checking\n",
      "Checking\n",
      "Checking\n",
      "Checking\n",
      "Ran:  2019 NL\n",
      "Checking\n",
      "Checking\n",
      "Checking\n",
      "Checking\n",
      "Checking\n",
      "Checking\n",
      "Ran:  2018 US\n",
      "Checking\n",
      "Checking\n",
      "Checking\n",
      "Checking\n",
      "Checking\n",
      "Checking\n",
      "Ran:  2018 GB\n",
      "Checking\n",
      "Checking\n",
      "Checking\n",
      "Checking\n",
      "Checking\n",
      "Checking\n",
      "Ran:  2018 IN\n",
      "Checking\n",
      "Checking\n",
      "Checking\n",
      "Checking\n",
      "Checking\n",
      "Checking\n",
      "Ran:  2018 NL\n",
      "Checking\n",
      "Checking\n",
      "Checking\n",
      "Checking\n",
      "Checking\n",
      "Checking\n",
      "Ran:  2017 US\n",
      "Checking\n",
      "Checking\n",
      "Checking\n",
      "Checking\n",
      "Checking\n",
      "Checking\n",
      "Ran:  2017 GB\n",
      "Checking\n",
      "Checking\n",
      "Checking\n",
      "Checking\n",
      "Checking\n",
      "Checking\n",
      "Ran:  2017 IN\n",
      "Checking\n",
      "Checking\n",
      "Checking\n",
      "Checking\n",
      "Checking\n",
      "Checking\n",
      "Ran:  2017 NL\n",
      "Checking\n",
      "Checking\n",
      "Checking\n",
      "Checking\n",
      "Checking\n",
      "Checking\n",
      "Ran:  2016 US\n",
      "Checking\n",
      "Checking\n",
      "Checking\n",
      "Checking\n",
      "Checking\n",
      "Checking\n",
      "Ran:  2016 GB\n",
      "Checking\n",
      "Checking\n",
      "Checking\n",
      "Checking\n",
      "Checking\n",
      "Checking\n",
      "Ran:  2016 IN\n",
      "Checking\n",
      "Checking\n",
      "Checking\n",
      "Checking\n",
      "Checking\n",
      "Checking\n",
      "Ran:  2016 NL\n",
      "Checking\n",
      "Checking\n",
      "Checking\n",
      "Checking\n",
      "Checking\n",
      "Checking\n",
      "Ran:  2015 US\n",
      "Checking\n",
      "Checking\n",
      "Checking\n",
      "Checking\n",
      "Checking\n",
      "Checking\n",
      "Ran:  2015 GB\n",
      "Checking\n",
      "Checking\n",
      "Checking\n",
      "Checking\n",
      "Checking\n",
      "Checking\n",
      "Ran:  2015 IN\n",
      "Checking\n",
      "Checking\n",
      "Checking\n",
      "Checking\n",
      "Checking\n",
      "Checking\n",
      "Ran:  2015 NL\n",
      "Time to run (in seconds):  561.146622125\n"
     ]
    }
   ],
   "source": [
    "start = timeit.default_timer()\n",
    "\n",
    "for year in years: \n",
    "    for market in markets:\n",
    "        \n",
    "        for i in range(0,300,50):\n",
    "            track_results = spotify.search(q=f'year:{year}', type='track', market = market, limit=50,offset=i)\n",
    "            print('Checking')\n",
    "            for i, t in enumerate(track_results['tracks']['items']):\n",
    "                year_list.append(year)\n",
    "                market_list.append(market)\n",
    "                artist_name.append(t['artists'][0]['name'])\n",
    "                artist_id.append(t['artists'][0]['id'])\n",
    "                track_name.append(t['name'])\n",
    "                track_id.append(t['id'])\n",
    "                popularity.append(t['popularity'])\n",
    "        \n",
    "        print('Ran: ', year + ' ' + market)\n",
    "    time.sleep(60)\n",
    "        \n",
    "stop = timeit.default_timer()\n",
    "print ('Time to run (in seconds): ', stop - start)"
   ]
  },
  {
   "cell_type": "code",
   "execution_count": 9,
   "id": "25577ac9",
   "metadata": {
    "scrolled": false
   },
   "outputs": [
    {
     "data": {
      "text/plain": [
       "(9600, 7)"
      ]
     },
     "execution_count": 9,
     "metadata": {},
     "output_type": "execute_result"
    }
   ],
   "source": [
    "df_tracks = pd.DataFrame({'year': year_list, 'market': market_list,'artist_name':artist_name, 'artist_id': artist_id, 'track_name':track_name,'track_id':track_id,'popularity':popularity})\n",
    "df_tracks.shape"
   ]
  },
  {
   "cell_type": "code",
   "execution_count": 10,
   "id": "45998162",
   "metadata": {
    "scrolled": false
   },
   "outputs": [
    {
     "data": {
      "text/html": [
       "<div>\n",
       "<style scoped>\n",
       "    .dataframe tbody tr th:only-of-type {\n",
       "        vertical-align: middle;\n",
       "    }\n",
       "\n",
       "    .dataframe tbody tr th {\n",
       "        vertical-align: top;\n",
       "    }\n",
       "\n",
       "    .dataframe thead th {\n",
       "        text-align: right;\n",
       "    }\n",
       "</style>\n",
       "<table border=\"1\" class=\"dataframe\">\n",
       "  <thead>\n",
       "    <tr style=\"text-align: right;\">\n",
       "      <th></th>\n",
       "      <th>year</th>\n",
       "      <th>market</th>\n",
       "      <th>artist_name</th>\n",
       "      <th>artist_id</th>\n",
       "      <th>track_name</th>\n",
       "      <th>track_id</th>\n",
       "      <th>popularity</th>\n",
       "    </tr>\n",
       "  </thead>\n",
       "  <tbody>\n",
       "    <tr>\n",
       "      <th>0</th>\n",
       "      <td>2022</td>\n",
       "      <td>US</td>\n",
       "      <td>SZA</td>\n",
       "      <td>7tYKF4w9nC0nq9CsPZTHyP</td>\n",
       "      <td>Kill Bill</td>\n",
       "      <td>3OHfY25tqY28d16oZczHc8</td>\n",
       "      <td>93</td>\n",
       "    </tr>\n",
       "    <tr>\n",
       "      <th>1</th>\n",
       "      <td>2022</td>\n",
       "      <td>US</td>\n",
       "      <td>Metro Boomin</td>\n",
       "      <td>0iEtIxbK0KxaSlF7G42ZOp</td>\n",
       "      <td>Creepin' (with The Weeknd &amp; 21 Savage)</td>\n",
       "      <td>2dHHgzDwk4BJdRwy9uXhTO</td>\n",
       "      <td>94</td>\n",
       "    </tr>\n",
       "    <tr>\n",
       "      <th>2</th>\n",
       "      <td>2022</td>\n",
       "      <td>US</td>\n",
       "      <td>Drake</td>\n",
       "      <td>3TVXtAsR1Inumwj472S9r4</td>\n",
       "      <td>Rich Flex</td>\n",
       "      <td>1bDbXMyjaUIooNwFE9wn0N</td>\n",
       "      <td>91</td>\n",
       "    </tr>\n",
       "    <tr>\n",
       "      <th>3</th>\n",
       "      <td>2022</td>\n",
       "      <td>US</td>\n",
       "      <td>SZA</td>\n",
       "      <td>7tYKF4w9nC0nq9CsPZTHyP</td>\n",
       "      <td>Kill Bill</td>\n",
       "      <td>1Qrg8KqiBpW07V7PNxwwwL</td>\n",
       "      <td>92</td>\n",
       "    </tr>\n",
       "    <tr>\n",
       "      <th>4</th>\n",
       "      <td>2022</td>\n",
       "      <td>US</td>\n",
       "      <td>Metro Boomin</td>\n",
       "      <td>0iEtIxbK0KxaSlF7G42ZOp</td>\n",
       "      <td>Superhero (Heroes &amp; Villains) [with Future &amp; C...</td>\n",
       "      <td>0vjeOZ3Ft5jvAi9SBFJm1j</td>\n",
       "      <td>88</td>\n",
       "    </tr>\n",
       "  </tbody>\n",
       "</table>\n",
       "</div>"
      ],
      "text/plain": [
       "   year market   artist_name               artist_id  \\\n",
       "0  2022     US           SZA  7tYKF4w9nC0nq9CsPZTHyP   \n",
       "1  2022     US  Metro Boomin  0iEtIxbK0KxaSlF7G42ZOp   \n",
       "2  2022     US         Drake  3TVXtAsR1Inumwj472S9r4   \n",
       "3  2022     US           SZA  7tYKF4w9nC0nq9CsPZTHyP   \n",
       "4  2022     US  Metro Boomin  0iEtIxbK0KxaSlF7G42ZOp   \n",
       "\n",
       "                                          track_name                track_id  \\\n",
       "0                                          Kill Bill  3OHfY25tqY28d16oZczHc8   \n",
       "1             Creepin' (with The Weeknd & 21 Savage)  2dHHgzDwk4BJdRwy9uXhTO   \n",
       "2                                          Rich Flex  1bDbXMyjaUIooNwFE9wn0N   \n",
       "3                                          Kill Bill  1Qrg8KqiBpW07V7PNxwwwL   \n",
       "4  Superhero (Heroes & Villains) [with Future & C...  0vjeOZ3Ft5jvAi9SBFJm1j   \n",
       "\n",
       "   popularity  \n",
       "0          93  \n",
       "1          94  \n",
       "2          91  \n",
       "3          92  \n",
       "4          88  "
      ]
     },
     "execution_count": 10,
     "metadata": {},
     "output_type": "execute_result"
    }
   ],
   "source": [
    "df_tracks.head()"
   ]
  },
  {
   "cell_type": "code",
   "execution_count": 11,
   "id": "c2a2a976",
   "metadata": {},
   "outputs": [
    {
     "data": {
      "text/plain": [
       "2400"
      ]
     },
     "execution_count": 11,
     "metadata": {},
     "output_type": "execute_result"
    }
   ],
   "source": [
    "# number of unique artists\n",
    "df_tracks['artist_id'].nunique()"
   ]
  },
  {
   "cell_type": "code",
   "execution_count": 12,
   "id": "5fe5ec17",
   "metadata": {},
   "outputs": [
    {
     "data": {
      "text/plain": [
       "2400"
      ]
     },
     "execution_count": 12,
     "metadata": {},
     "output_type": "execute_result"
    }
   ],
   "source": [
    "dedup_artist_id = list(set(artist_id))\n",
    "len(dedup_artist_id)"
   ]
  },
  {
   "cell_type": "code",
   "execution_count": 13,
   "id": "08ab14b7",
   "metadata": {},
   "outputs": [
    {
     "name": "stdout",
     "output_type": "stream",
     "text": [
      "Checked: 150\n",
      "Checked: 300\n",
      "Checked: 450\n",
      "Checked: 600\n",
      "Checked: 750\n",
      "Checked: 900\n",
      "Checked: 1050\n",
      "Checked: 1200\n",
      "Checked: 1350\n",
      "Checked: 1500\n",
      "Checked: 1650\n",
      "Checked: 1800\n",
      "Checked: 1950\n",
      "Checked: 2100\n",
      "Checked: 2250\n",
      "Checked: 2400\n",
      "Time to run (in seconds):  1125.8443239580001\n"
     ]
    }
   ],
   "source": [
    "# sourcing the genre per artist\n",
    "artist_genre = []\n",
    "count = 0\n",
    "\n",
    "start = timeit.default_timer()\n",
    "\n",
    "for i in dedup_artist_id:\n",
    "    \n",
    "    t = spotify.artist(str(i))['genres']\n",
    "    artist_genre.append(t)\n",
    "    count += 1\n",
    "    \n",
    "    if count%150 == 0:\n",
    "        print('Checked: ' + str(count))\n",
    "        time.sleep(60)\n",
    "        \n",
    "stop = timeit.default_timer()\n",
    "print ('Time to run (in seconds): ', stop - start)"
   ]
  },
  {
   "cell_type": "code",
   "execution_count": 14,
   "id": "faae3007",
   "metadata": {},
   "outputs": [
    {
     "data": {
      "text/plain": [
       "2400"
      ]
     },
     "execution_count": 14,
     "metadata": {},
     "output_type": "execute_result"
    }
   ],
   "source": [
    "len(artist_genre)"
   ]
  },
  {
   "cell_type": "code",
   "execution_count": 15,
   "id": "0524696d",
   "metadata": {},
   "outputs": [
    {
     "data": {
      "text/html": [
       "<div>\n",
       "<style scoped>\n",
       "    .dataframe tbody tr th:only-of-type {\n",
       "        vertical-align: middle;\n",
       "    }\n",
       "\n",
       "    .dataframe tbody tr th {\n",
       "        vertical-align: top;\n",
       "    }\n",
       "\n",
       "    .dataframe thead th {\n",
       "        text-align: right;\n",
       "    }\n",
       "</style>\n",
       "<table border=\"1\" class=\"dataframe\">\n",
       "  <thead>\n",
       "    <tr style=\"text-align: right;\">\n",
       "      <th></th>\n",
       "      <th>dedup_artist_id</th>\n",
       "      <th>artist_genre</th>\n",
       "    </tr>\n",
       "  </thead>\n",
       "  <tbody>\n",
       "    <tr>\n",
       "      <th>0</th>\n",
       "      <td>53XhwfbYqKCa1cC15pYq2q</td>\n",
       "      <td>[modern rock, rock]</td>\n",
       "    </tr>\n",
       "    <tr>\n",
       "      <th>1</th>\n",
       "      <td>3upXQVqKZlTKRES3LQ9VjO</td>\n",
       "      <td>[carnaval, levenslied]</td>\n",
       "    </tr>\n",
       "    <tr>\n",
       "      <th>2</th>\n",
       "      <td>1SyKki7JI1AZNKwgNMkn25</td>\n",
       "      <td>[desi pop, modern bollywood]</td>\n",
       "    </tr>\n",
       "    <tr>\n",
       "      <th>3</th>\n",
       "      <td>3lC07j0oFDXJflpeAjo9eZ</td>\n",
       "      <td>[dutch pop]</td>\n",
       "    </tr>\n",
       "    <tr>\n",
       "      <th>4</th>\n",
       "      <td>0L5fC7Ogm2YwgqVCRcF1bT</td>\n",
       "      <td>[alternative metal, danish metal, danish rock]</td>\n",
       "    </tr>\n",
       "  </tbody>\n",
       "</table>\n",
       "</div>"
      ],
      "text/plain": [
       "          dedup_artist_id                                    artist_genre\n",
       "0  53XhwfbYqKCa1cC15pYq2q                             [modern rock, rock]\n",
       "1  3upXQVqKZlTKRES3LQ9VjO                          [carnaval, levenslied]\n",
       "2  1SyKki7JI1AZNKwgNMkn25                    [desi pop, modern bollywood]\n",
       "3  3lC07j0oFDXJflpeAjo9eZ                                     [dutch pop]\n",
       "4  0L5fC7Ogm2YwgqVCRcF1bT  [alternative metal, danish metal, danish rock]"
      ]
     },
     "execution_count": 15,
     "metadata": {},
     "output_type": "execute_result"
    }
   ],
   "source": [
    "df_genre = pd.DataFrame({'dedup_artist_id': dedup_artist_id, 'artist_genre': artist_genre})\n",
    "df_genre.head()"
   ]
  },
  {
   "cell_type": "code",
   "execution_count": 16,
   "id": "f7e60c58",
   "metadata": {},
   "outputs": [],
   "source": [
    "# renaming the artist id column and merging into df\n",
    "df_genre.rename(columns={'dedup_artist_id': 'artist_id'}, inplace=True)"
   ]
  },
  {
   "cell_type": "code",
   "execution_count": 17,
   "id": "74b4ac8b",
   "metadata": {},
   "outputs": [
    {
     "data": {
      "text/html": [
       "<div>\n",
       "<style scoped>\n",
       "    .dataframe tbody tr th:only-of-type {\n",
       "        vertical-align: middle;\n",
       "    }\n",
       "\n",
       "    .dataframe tbody tr th {\n",
       "        vertical-align: top;\n",
       "    }\n",
       "\n",
       "    .dataframe thead th {\n",
       "        text-align: right;\n",
       "    }\n",
       "</style>\n",
       "<table border=\"1\" class=\"dataframe\">\n",
       "  <thead>\n",
       "    <tr style=\"text-align: right;\">\n",
       "      <th></th>\n",
       "      <th>year</th>\n",
       "      <th>market</th>\n",
       "      <th>artist_name</th>\n",
       "      <th>artist_id</th>\n",
       "      <th>track_name</th>\n",
       "      <th>track_id</th>\n",
       "      <th>popularity</th>\n",
       "      <th>artist_genre</th>\n",
       "    </tr>\n",
       "  </thead>\n",
       "  <tbody>\n",
       "    <tr>\n",
       "      <th>0</th>\n",
       "      <td>2022</td>\n",
       "      <td>US</td>\n",
       "      <td>SZA</td>\n",
       "      <td>7tYKF4w9nC0nq9CsPZTHyP</td>\n",
       "      <td>Kill Bill</td>\n",
       "      <td>3OHfY25tqY28d16oZczHc8</td>\n",
       "      <td>93</td>\n",
       "      <td>[pop, r&amp;b]</td>\n",
       "    </tr>\n",
       "    <tr>\n",
       "      <th>1</th>\n",
       "      <td>2022</td>\n",
       "      <td>US</td>\n",
       "      <td>Metro Boomin</td>\n",
       "      <td>0iEtIxbK0KxaSlF7G42ZOp</td>\n",
       "      <td>Creepin' (with The Weeknd &amp; 21 Savage)</td>\n",
       "      <td>2dHHgzDwk4BJdRwy9uXhTO</td>\n",
       "      <td>94</td>\n",
       "      <td>[rap]</td>\n",
       "    </tr>\n",
       "    <tr>\n",
       "      <th>2</th>\n",
       "      <td>2022</td>\n",
       "      <td>US</td>\n",
       "      <td>Drake</td>\n",
       "      <td>3TVXtAsR1Inumwj472S9r4</td>\n",
       "      <td>Rich Flex</td>\n",
       "      <td>1bDbXMyjaUIooNwFE9wn0N</td>\n",
       "      <td>91</td>\n",
       "      <td>[canadian hip hop, canadian pop, hip hop, rap,...</td>\n",
       "    </tr>\n",
       "    <tr>\n",
       "      <th>3</th>\n",
       "      <td>2022</td>\n",
       "      <td>US</td>\n",
       "      <td>SZA</td>\n",
       "      <td>7tYKF4w9nC0nq9CsPZTHyP</td>\n",
       "      <td>Kill Bill</td>\n",
       "      <td>1Qrg8KqiBpW07V7PNxwwwL</td>\n",
       "      <td>92</td>\n",
       "      <td>[pop, r&amp;b]</td>\n",
       "    </tr>\n",
       "    <tr>\n",
       "      <th>4</th>\n",
       "      <td>2022</td>\n",
       "      <td>US</td>\n",
       "      <td>Metro Boomin</td>\n",
       "      <td>0iEtIxbK0KxaSlF7G42ZOp</td>\n",
       "      <td>Superhero (Heroes &amp; Villains) [with Future &amp; C...</td>\n",
       "      <td>0vjeOZ3Ft5jvAi9SBFJm1j</td>\n",
       "      <td>88</td>\n",
       "      <td>[rap]</td>\n",
       "    </tr>\n",
       "  </tbody>\n",
       "</table>\n",
       "</div>"
      ],
      "text/plain": [
       "   year market   artist_name               artist_id  \\\n",
       "0  2022     US           SZA  7tYKF4w9nC0nq9CsPZTHyP   \n",
       "1  2022     US  Metro Boomin  0iEtIxbK0KxaSlF7G42ZOp   \n",
       "2  2022     US         Drake  3TVXtAsR1Inumwj472S9r4   \n",
       "3  2022     US           SZA  7tYKF4w9nC0nq9CsPZTHyP   \n",
       "4  2022     US  Metro Boomin  0iEtIxbK0KxaSlF7G42ZOp   \n",
       "\n",
       "                                          track_name                track_id  \\\n",
       "0                                          Kill Bill  3OHfY25tqY28d16oZczHc8   \n",
       "1             Creepin' (with The Weeknd & 21 Savage)  2dHHgzDwk4BJdRwy9uXhTO   \n",
       "2                                          Rich Flex  1bDbXMyjaUIooNwFE9wn0N   \n",
       "3                                          Kill Bill  1Qrg8KqiBpW07V7PNxwwwL   \n",
       "4  Superhero (Heroes & Villains) [with Future & C...  0vjeOZ3Ft5jvAi9SBFJm1j   \n",
       "\n",
       "   popularity                                       artist_genre  \n",
       "0          93                                         [pop, r&b]  \n",
       "1          94                                              [rap]  \n",
       "2          91  [canadian hip hop, canadian pop, hip hop, rap,...  \n",
       "3          92                                         [pop, r&b]  \n",
       "4          88                                              [rap]  "
      ]
     },
     "execution_count": 17,
     "metadata": {},
     "output_type": "execute_result"
    }
   ],
   "source": [
    "df_tracks_genre = df_tracks.merge(df_genre, on = 'artist_id', how = 'left')\n",
    "df_tracks_genre.head()"
   ]
  },
  {
   "cell_type": "code",
   "execution_count": 18,
   "id": "00777b1f",
   "metadata": {},
   "outputs": [
    {
     "data": {
      "text/plain": [
       "202"
      ]
     },
     "execution_count": 18,
     "metadata": {},
     "output_type": "execute_result"
    }
   ],
   "source": [
    "#checking for duplicates - since same track from single and part of an album can be returned under different track id's\n",
    "grouped = df_tracks_genre.groupby(['artist_name','track_name','year','market'], as_index=True).size()\n",
    "grouped[grouped > 1].count()"
   ]
  },
  {
   "cell_type": "code",
   "execution_count": 19,
   "id": "0b225ab8",
   "metadata": {},
   "outputs": [
    {
     "data": {
      "text/html": [
       "<div>\n",
       "<style scoped>\n",
       "    .dataframe tbody tr th:only-of-type {\n",
       "        vertical-align: middle;\n",
       "    }\n",
       "\n",
       "    .dataframe tbody tr th {\n",
       "        vertical-align: top;\n",
       "    }\n",
       "\n",
       "    .dataframe thead th {\n",
       "        text-align: right;\n",
       "    }\n",
       "</style>\n",
       "<table border=\"1\" class=\"dataframe\">\n",
       "  <thead>\n",
       "    <tr style=\"text-align: right;\">\n",
       "      <th></th>\n",
       "      <th>year</th>\n",
       "      <th>market</th>\n",
       "      <th>artist_name</th>\n",
       "      <th>artist_id</th>\n",
       "      <th>track_name</th>\n",
       "      <th>track_id</th>\n",
       "      <th>popularity</th>\n",
       "      <th>artist_genre</th>\n",
       "    </tr>\n",
       "  </thead>\n",
       "  <tbody>\n",
       "    <tr>\n",
       "      <th>0</th>\n",
       "      <td>2022</td>\n",
       "      <td>US</td>\n",
       "      <td>SZA</td>\n",
       "      <td>7tYKF4w9nC0nq9CsPZTHyP</td>\n",
       "      <td>Kill Bill</td>\n",
       "      <td>3OHfY25tqY28d16oZczHc8</td>\n",
       "      <td>93</td>\n",
       "      <td>[pop, r&amp;b]</td>\n",
       "    </tr>\n",
       "    <tr>\n",
       "      <th>3</th>\n",
       "      <td>2022</td>\n",
       "      <td>US</td>\n",
       "      <td>SZA</td>\n",
       "      <td>7tYKF4w9nC0nq9CsPZTHyP</td>\n",
       "      <td>Kill Bill</td>\n",
       "      <td>1Qrg8KqiBpW07V7PNxwwwL</td>\n",
       "      <td>92</td>\n",
       "      <td>[pop, r&amp;b]</td>\n",
       "    </tr>\n",
       "    <tr>\n",
       "      <th>308</th>\n",
       "      <td>2022</td>\n",
       "      <td>GB</td>\n",
       "      <td>SZA</td>\n",
       "      <td>7tYKF4w9nC0nq9CsPZTHyP</td>\n",
       "      <td>Kill Bill</td>\n",
       "      <td>1Qrg8KqiBpW07V7PNxwwwL</td>\n",
       "      <td>92</td>\n",
       "      <td>[pop, r&amp;b]</td>\n",
       "    </tr>\n",
       "    <tr>\n",
       "      <th>311</th>\n",
       "      <td>2022</td>\n",
       "      <td>GB</td>\n",
       "      <td>SZA</td>\n",
       "      <td>7tYKF4w9nC0nq9CsPZTHyP</td>\n",
       "      <td>Kill Bill</td>\n",
       "      <td>3OHfY25tqY28d16oZczHc8</td>\n",
       "      <td>93</td>\n",
       "      <td>[pop, r&amp;b]</td>\n",
       "    </tr>\n",
       "    <tr>\n",
       "      <th>768</th>\n",
       "      <td>2022</td>\n",
       "      <td>IN</td>\n",
       "      <td>SZA</td>\n",
       "      <td>7tYKF4w9nC0nq9CsPZTHyP</td>\n",
       "      <td>Kill Bill</td>\n",
       "      <td>3OHfY25tqY28d16oZczHc8</td>\n",
       "      <td>93</td>\n",
       "      <td>[pop, r&amp;b]</td>\n",
       "    </tr>\n",
       "    <tr>\n",
       "      <th>795</th>\n",
       "      <td>2022</td>\n",
       "      <td>IN</td>\n",
       "      <td>SZA</td>\n",
       "      <td>7tYKF4w9nC0nq9CsPZTHyP</td>\n",
       "      <td>Kill Bill</td>\n",
       "      <td>1Qrg8KqiBpW07V7PNxwwwL</td>\n",
       "      <td>92</td>\n",
       "      <td>[pop, r&amp;b]</td>\n",
       "    </tr>\n",
       "    <tr>\n",
       "      <th>941</th>\n",
       "      <td>2022</td>\n",
       "      <td>NL</td>\n",
       "      <td>SZA</td>\n",
       "      <td>7tYKF4w9nC0nq9CsPZTHyP</td>\n",
       "      <td>Kill Bill</td>\n",
       "      <td>3OHfY25tqY28d16oZczHc8</td>\n",
       "      <td>93</td>\n",
       "      <td>[pop, r&amp;b]</td>\n",
       "    </tr>\n",
       "    <tr>\n",
       "      <th>949</th>\n",
       "      <td>2022</td>\n",
       "      <td>NL</td>\n",
       "      <td>SZA</td>\n",
       "      <td>7tYKF4w9nC0nq9CsPZTHyP</td>\n",
       "      <td>Kill Bill</td>\n",
       "      <td>1Qrg8KqiBpW07V7PNxwwwL</td>\n",
       "      <td>92</td>\n",
       "      <td>[pop, r&amp;b]</td>\n",
       "    </tr>\n",
       "  </tbody>\n",
       "</table>\n",
       "</div>"
      ],
      "text/plain": [
       "     year market artist_name               artist_id track_name  \\\n",
       "0    2022     US         SZA  7tYKF4w9nC0nq9CsPZTHyP  Kill Bill   \n",
       "3    2022     US         SZA  7tYKF4w9nC0nq9CsPZTHyP  Kill Bill   \n",
       "308  2022     GB         SZA  7tYKF4w9nC0nq9CsPZTHyP  Kill Bill   \n",
       "311  2022     GB         SZA  7tYKF4w9nC0nq9CsPZTHyP  Kill Bill   \n",
       "768  2022     IN         SZA  7tYKF4w9nC0nq9CsPZTHyP  Kill Bill   \n",
       "795  2022     IN         SZA  7tYKF4w9nC0nq9CsPZTHyP  Kill Bill   \n",
       "941  2022     NL         SZA  7tYKF4w9nC0nq9CsPZTHyP  Kill Bill   \n",
       "949  2022     NL         SZA  7tYKF4w9nC0nq9CsPZTHyP  Kill Bill   \n",
       "\n",
       "                   track_id  popularity artist_genre  \n",
       "0    3OHfY25tqY28d16oZczHc8          93   [pop, r&b]  \n",
       "3    1Qrg8KqiBpW07V7PNxwwwL          92   [pop, r&b]  \n",
       "308  1Qrg8KqiBpW07V7PNxwwwL          92   [pop, r&b]  \n",
       "311  3OHfY25tqY28d16oZczHc8          93   [pop, r&b]  \n",
       "768  3OHfY25tqY28d16oZczHc8          93   [pop, r&b]  \n",
       "795  1Qrg8KqiBpW07V7PNxwwwL          92   [pop, r&b]  \n",
       "941  3OHfY25tqY28d16oZczHc8          93   [pop, r&b]  \n",
       "949  1Qrg8KqiBpW07V7PNxwwwL          92   [pop, r&b]  "
      ]
     },
     "execution_count": 19,
     "metadata": {},
     "output_type": "execute_result"
    }
   ],
   "source": [
    "df_tracks_genre[df_tracks_genre['track_name'] == \"Kill Bill\"]"
   ]
  },
  {
   "cell_type": "code",
   "execution_count": 20,
   "id": "697a2e79",
   "metadata": {},
   "outputs": [
    {
     "data": {
      "text/plain": [
       "0"
      ]
     },
     "execution_count": 20,
     "metadata": {},
     "output_type": "execute_result"
    }
   ],
   "source": [
    "df_tracks_genre.drop_duplicates(subset=['artist_name','track_name','year','market'], inplace=True)\n",
    "\n",
    "# doing the same grouping as before to verify the solution\n",
    "grouped = df_tracks_genre.groupby(['artist_name','track_name','year','market'], as_index=True).size()\n",
    "grouped[grouped> 1].count()"
   ]
  },
  {
   "cell_type": "code",
   "execution_count": 21,
   "id": "6570d51c",
   "metadata": {},
   "outputs": [
    {
     "data": {
      "text/plain": [
       "(9394, 8)"
      ]
     },
     "execution_count": 21,
     "metadata": {},
     "output_type": "execute_result"
    }
   ],
   "source": [
    "df_tracks_genre.shape"
   ]
  },
  {
   "cell_type": "markdown",
   "id": "d0f0fd73",
   "metadata": {},
   "source": [
    "PLEASE NOTE: If re-running this file, do not re-run the line below to avoid overwriting the files created by our group which could impact the dataset used in the report."
   ]
  },
  {
   "cell_type": "code",
   "execution_count": 22,
   "id": "faefdd8d",
   "metadata": {},
   "outputs": [],
   "source": [
    "#df_tracks_genre.to_csv('spotify_tracks.csv', index = False)  "
   ]
  }
 ],
 "metadata": {
  "kernelspec": {
   "display_name": "Python 3 (ipykernel)",
   "language": "python",
   "name": "python3"
  },
  "language_info": {
   "codemirror_mode": {
    "name": "ipython",
    "version": 3
   },
   "file_extension": ".py",
   "mimetype": "text/x-python",
   "name": "python",
   "nbconvert_exporter": "python",
   "pygments_lexer": "ipython3",
   "version": "3.9.12"
  }
 },
 "nbformat": 4,
 "nbformat_minor": 5
}
